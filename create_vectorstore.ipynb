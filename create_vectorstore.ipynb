{
 "cells": [
  {
   "cell_type": "markdown",
   "metadata": {},
   "source": [
    "#### 0. Setup"
   ]
  },
  {
   "cell_type": "code",
   "execution_count": 15,
   "metadata": {},
   "outputs": [],
   "source": [
    "import pandas as pd\n",
    "import os\n",
    "\n",
    "from langchain_community.document_loaders import PyPDFLoader\n",
    "from langchain_community.vectorstores import Chroma\n",
    "from langchain_openai import OpenAIEmbeddings\n",
    "from langchain_text_splitters import RecursiveCharacterTextSplitter\n",
    "\n",
    "import config \n",
    "\n",
    "OPENAI_APIKEY = config.OPENAI_API_KEY\n",
    "embeddings_model = OpenAIEmbeddings(api_key=OPENAI_APIKEY, model='text-embedding-3-large', max_retries=100, chunk_size=16, show_progress_bar=False)\n"
   ]
  },
  {
   "cell_type": "markdown",
   "metadata": {},
   "source": [
    "#### 1. Extract information from Text"
   ]
  },
  {
   "cell_type": "code",
   "execution_count": 16,
   "metadata": {},
   "outputs": [],
   "source": [
    "file_path = (\n",
    "    \"data/2312.10997.pdf\"\n",
    ")\n",
    "loader = PyPDFLoader(file_path)\n",
    "docs = loader.load_and_split()\n",
    "\n",
    "text_splitter = RecursiveCharacterTextSplitter(chunk_size=256, chunk_overlap=64)\n",
    "text_splits = text_splitter.split_documents(docs)"
   ]
  },
  {
   "cell_type": "markdown",
   "metadata": {},
   "source": [
    "#### 2. Extract information from Image"
   ]
  },
  {
   "cell_type": "code",
   "execution_count": 24,
   "metadata": {},
   "outputs": [],
   "source": [
    "##extrac image from pdf\n",
    "# from util.extract_image_pdf import extract\n",
    "# extract(\"data/2312.10997.pdf\", \"data/image\")\n",
    "\n",
    "##generate image description\n",
    "# import pandas as pd\n",
    "# from util.get_image_description import get_description\n",
    "# images = os.listdir(\"data/image\")\n",
    "# images_filepath = [os.path.join(\"data/image\", image) for image in images]\n",
    "\n",
    "# df = pd.DataFrame(columns=[\"image\", \"description\"])\n",
    "# df[\"source\"] = images_filepath\n",
    "# df[\"description\"] = df[\"image\"].apply(get_description)\n",
    "# df.to_csv(\"data/image_description.csv\", index=False)\n",
    "\n",
    "##load image description\n",
    "from langchain_community.document_loaders import DataFrameLoader\n",
    "df = pd.read_csv(\"data/image_description.csv\")\n",
    "records = DataFrameLoader(df, 'description','pandas')\n",
    "\n",
    "text_splitter = RecursiveCharacterTextSplitter(chunk_size=256, chunk_overlap=64)\n",
    "image_splits = text_splitter.split_documents(records.load())"
   ]
  },
  {
   "cell_type": "markdown",
   "metadata": {},
   "source": [
    "#### 3. Upsert"
   ]
  },
  {
   "cell_type": "code",
   "execution_count": 33,
   "metadata": {},
   "outputs": [
    {
     "name": "stdout",
     "output_type": "stream",
     "text": [
      "726\n",
      "77\n",
      "803\n"
     ]
    }
   ],
   "source": [
    "print(len(text_splits))\n",
    "print(len(image_splits))\n",
    "print(len(text_splits+image_splits))\n"
   ]
  },
  {
   "cell_type": "code",
   "execution_count": 35,
   "metadata": {},
   "outputs": [],
   "source": [
    "vectorstore = Chroma.from_documents(documents=text_splits+image_splits, embedding=embeddings_model, persist_directory=\"rag_db\")"
   ]
  },
  {
   "cell_type": "code",
   "execution_count": null,
   "metadata": {},
   "outputs": [],
   "source": []
  }
 ],
 "metadata": {
  "kernelspec": {
   "display_name": "rag-ui",
   "language": "python",
   "name": "python3"
  },
  "language_info": {
   "codemirror_mode": {
    "name": "ipython",
    "version": 3
   },
   "file_extension": ".py",
   "mimetype": "text/x-python",
   "name": "python",
   "nbconvert_exporter": "python",
   "pygments_lexer": "ipython3",
   "version": "3.8.17"
  }
 },
 "nbformat": 4,
 "nbformat_minor": 2
}
