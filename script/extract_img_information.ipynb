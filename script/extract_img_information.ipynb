{
 "cells": [
  {
   "cell_type": "markdown",
   "metadata": {},
   "source": [
    "#### **1. Extract image from pdf**"
   ]
  },
  {
   "cell_type": "code",
   "execution_count": 2,
   "metadata": {},
   "outputs": [
    {
     "name": "stdout",
     "output_type": "stream",
     "text": [
      "[INFO] Found 0 images on page 1\n",
      "[INFO] Found 1 images on page 2\n",
      "[INFO] Saved image at data/image/doc231210997_page2_image1.png\n",
      "[INFO] Found 0 images on page 3\n",
      "[INFO] Found 1 images on page 4\n",
      "[INFO] Saved image at data/image/doc231210997_page4_image1.png\n",
      "[INFO] Found 0 images on page 5\n",
      "[INFO] Found 1 images on page 6\n",
      "[INFO] Saved image at data/image/doc231210997_page6_image1.png\n",
      "[INFO] Found 0 images on page 7\n",
      "[INFO] Found 0 images on page 8\n",
      "[INFO] Found 0 images on page 9\n",
      "[INFO] Found 0 images on page 10\n",
      "[INFO] Found 0 images on page 11\n",
      "[INFO] Found 1 images on page 12\n",
      "[INFO] Saved image at data/image/doc231210997_page12_image1.png\n",
      "[INFO] Found 0 images on page 13\n",
      "[INFO] Found 0 images on page 14\n",
      "[INFO] Found 1 images on page 15\n",
      "[INFO] Saved image at data/image/doc231210997_page15_image1.png\n",
      "[INFO] Found 0 images on page 16\n",
      "[INFO] Found 0 images on page 17\n",
      "[INFO] Found 1 images on page 18\n",
      "[INFO] Saved image at data/image/doc231210997_page18_image1.png\n",
      "[INFO] Found 0 images on page 19\n",
      "[INFO] Found 0 images on page 20\n",
      "[INFO] Found 1 images on page 21\n",
      "[INFO] Saved image at data/image/doc231210997_page21_image1.png\n",
      "[INFO] Found 0 images on page 22\n",
      "[INFO] Found 0 images on page 23\n",
      "[INFO] Found 0 images on page 24\n",
      "[INFO] Found 0 images on page 25\n",
      "[INFO] Found 0 images on page 26\n"
     ]
    }
   ],
   "source": [
    "from util.extract_image_pdf import extract\n",
    "extract(\"data/2312.10997.pdf\", \"data/image\")"
   ]
  },
  {
   "cell_type": "markdown",
   "metadata": {},
   "source": [
    "#### 2. Generate image description"
   ]
  },
  {
   "cell_type": "code",
   "execution_count": 1,
   "metadata": {},
   "outputs": [
    {
     "data": {
      "text/html": [
       "<div>\n",
       "<style scoped>\n",
       "    .dataframe tbody tr th:only-of-type {\n",
       "        vertical-align: middle;\n",
       "    }\n",
       "\n",
       "    .dataframe tbody tr th {\n",
       "        vertical-align: top;\n",
       "    }\n",
       "\n",
       "    .dataframe thead th {\n",
       "        text-align: right;\n",
       "    }\n",
       "</style>\n",
       "<table border=\"1\" class=\"dataframe\">\n",
       "  <thead>\n",
       "    <tr style=\"text-align: right;\">\n",
       "      <th></th>\n",
       "      <th>image</th>\n",
       "      <th>description</th>\n",
       "    </tr>\n",
       "  </thead>\n",
       "  <tbody>\n",
       "    <tr>\n",
       "      <th>0</th>\n",
       "      <td>data/image/doc231210997_page21_image1.png</td>\n",
       "      <td>The image is a comprehensive overview of the R...</td>\n",
       "    </tr>\n",
       "    <tr>\n",
       "      <th>1</th>\n",
       "      <td>data/image/doc231210997_page2_image1.png</td>\n",
       "      <td>This image is a visual representation of the e...</td>\n",
       "    </tr>\n",
       "    <tr>\n",
       "      <th>2</th>\n",
       "      <td>data/image/doc231210997_page12_image1.png</td>\n",
       "      <td>The image is an organized flowchart diagram th...</td>\n",
       "    </tr>\n",
       "    <tr>\n",
       "      <th>3</th>\n",
       "      <td>data/image/doc231210997_page6_image1.png</td>\n",
       "      <td>The image contains three columns, each illustr...</td>\n",
       "    </tr>\n",
       "    <tr>\n",
       "      <th>4</th>\n",
       "      <td>data/image/doc231210997_page4_image1.png</td>\n",
       "      <td>The image is a flowchart that illustrates the ...</td>\n",
       "    </tr>\n",
       "    <tr>\n",
       "      <th>5</th>\n",
       "      <td>data/image/doc231210997_page18_image1.png</td>\n",
       "      <td>The image is a conceptual diagram that categor...</td>\n",
       "    </tr>\n",
       "    <tr>\n",
       "      <th>6</th>\n",
       "      <td>data/image/doc231210997_page15_image1.png</td>\n",
       "      <td>The image is a visual representation of the ev...</td>\n",
       "    </tr>\n",
       "  </tbody>\n",
       "</table>\n",
       "</div>"
      ],
      "text/plain": [
       "                                       image  \\\n",
       "0  data/image/doc231210997_page21_image1.png   \n",
       "1   data/image/doc231210997_page2_image1.png   \n",
       "2  data/image/doc231210997_page12_image1.png   \n",
       "3   data/image/doc231210997_page6_image1.png   \n",
       "4   data/image/doc231210997_page4_image1.png   \n",
       "5  data/image/doc231210997_page18_image1.png   \n",
       "6  data/image/doc231210997_page15_image1.png   \n",
       "\n",
       "                                         description  \n",
       "0  The image is a comprehensive overview of the R...  \n",
       "1  This image is a visual representation of the e...  \n",
       "2  The image is an organized flowchart diagram th...  \n",
       "3  The image contains three columns, each illustr...  \n",
       "4  The image is a flowchart that illustrates the ...  \n",
       "5  The image is a conceptual diagram that categor...  \n",
       "6  The image is a visual representation of the ev...  "
      ]
     },
     "execution_count": 1,
     "metadata": {},
     "output_type": "execute_result"
    }
   ],
   "source": [
    "import os\n",
    "import pandas as pd\n",
    "from util.get_image_description import get_description\n",
    "\n",
    "images = os.listdir(\"data/image\")\n",
    "images_filepath = [os.path.join(\"data/image\", image) for image in images]"
   ]
  },
  {
   "cell_type": "markdown",
   "metadata": {},
   "source": [
    "#### 3. Create Dataframe"
   ]
  },
  {
   "cell_type": "code",
   "execution_count": null,
   "metadata": {},
   "outputs": [],
   "source": [
    "df = pd.DataFrame(columns=[\"image\", \"description\"])\n",
    "df[\"source\"] = images_filepath\n",
    "df[\"description\"] = df[\"image\"].apply(get_description)\n",
    "df"
   ]
  },
  {
   "cell_type": "code",
   "execution_count": 5,
   "metadata": {},
   "outputs": [],
   "source": [
    "df.to_csv(\"data/image_description.csv\", index=False)"
   ]
  }
 ],
 "metadata": {
  "kernelspec": {
   "display_name": "rag-ui",
   "language": "python",
   "name": "python3"
  },
  "language_info": {
   "codemirror_mode": {
    "name": "ipython",
    "version": 3
   },
   "file_extension": ".py",
   "mimetype": "text/x-python",
   "name": "python",
   "nbconvert_exporter": "python",
   "pygments_lexer": "ipython3",
   "version": "3.8.17"
  }
 },
 "nbformat": 4,
 "nbformat_minor": 2
}
